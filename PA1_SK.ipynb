{
 "cells": [
  {
   "cell_type": "markdown",
   "id": "fc77cc47",
   "metadata": {},
   "source": [
    "* Assignment 1\n",
    "* CS150\n",
    "* Computer Programming for the Liberal Arts\n",
    "* FA 2023"
   ]
  },
  {
   "cell_type": "markdown",
   "id": "83fe330b",
   "metadata": {},
   "source": [
    "# Shay Korhorn"
   ]
  },
  {
   "cell_type": "markdown",
   "id": "15e16c53",
   "metadata": {},
   "source": [
    "### I am a sophomore at bellarmine and am on the wrestling team. I am very interested in learning and understanding coding."
   ]
  },
  {
   "cell_type": "markdown",
   "id": "17ee333e",
   "metadata": {},
   "source": [
    "* Programming Assignments\n",
    "* Quizzes\n",
    "* Attendance/In-class completed notebook submission\n",
    "* Mid-Term Exam (2)\n",
    "* Project (2)"
   ]
  },
  {
   "cell_type": "markdown",
   "id": "25220638",
   "metadata": {},
   "source": [
    "1. Module 0 - Course Introduction\n",
    "2. Module 1 - Variables and Simple Data Types\n",
    "3. Module 2 - Introducing Lists, Tuples\n",
    "4. Module 3 - if Statements\n",
    "5. Module 4 - Dictionaries\n",
    "6. Module 5 - While Loops\n",
    "7. Module 6 - Functions\n",
    "8. Module 7 - Classes\n",
    "9. Module 8 - Numpy"
   ]
  },
  {
   "cell_type": "markdown",
   "id": "34457447",
   "metadata": {},
   "source": [
    "**Python**"
   ]
  },
  {
   "cell_type": "markdown",
   "id": "9b65b1c4",
   "metadata": {},
   "source": [
    "*Jupyter*"
   ]
  },
  {
   "cell_type": "markdown",
   "id": "8688b005",
   "metadata": {},
   "source": [
    "`Coding is fun to learn.`"
   ]
  },
  {
   "cell_type": "markdown",
   "id": "5551901d",
   "metadata": {},
   "source": [
    "<a href=\"https://github.com/shaykorhorn\">GitHub Profile</a>"
   ]
  },
  {
   "cell_type": "markdown",
   "id": "47666e95",
   "metadata": {},
   "source": [
    "![Python Logo](https://www.bellarmine.edu/sf-images/default-source/marketing/bellarmine-maroon-university-752936.png)"
   ]
  },
  {
   "cell_type": "markdown",
   "id": "75e7493e",
   "metadata": {},
   "source": [
    "In this Markdown practice I was able to learn a variety of new things. I learned how to create all types of headers and create lists in different ways as well. What I learned does not end there as I also learned how to use bold and italics, highlight text, create hyperlinks, and render images. This practice was very helpful and helped me to understand coding much better."
   ]
  }
 ],
 "metadata": {
  "kernelspec": {
   "display_name": "Python 3 (ipykernel)",
   "language": "python",
   "name": "python3"
  },
  "language_info": {
   "codemirror_mode": {
    "name": "ipython",
    "version": 3
   },
   "file_extension": ".py",
   "mimetype": "text/x-python",
   "name": "python",
   "nbconvert_exporter": "python",
   "pygments_lexer": "ipython3",
   "version": "3.11.4"
  }
 },
 "nbformat": 4,
 "nbformat_minor": 5
}
